{
 "cells": [
  {
   "cell_type": "markdown",
   "metadata": {
    "dc": {
     "key": "4"
    },
    "deletable": false,
    "editable": false,
    "run_control": {
     "frozen": true
    },
    "tags": [
     "context"
    ]
   },
   "source": [
    "## The cost of milk to make cheese\n",
    "<p>The Coronavirus outbreak has caused major economic disruption. The pandemic's impact on the tourism, travel, and hospitality industries has featured frequently in 2020 news reports, but the economic impact has not been isolated to these industries alone. </p>\n",
    "<p>The UK dairy industry is one such affected industry and has had to work together to address current market challenges and avoid milk waste. The industry can adapt to the temporary decrease in demand by identifying opportunities for processing the milk into storable products such as butter, cheese, and skimmed milk powder. </p>\n",
    "<p>The UK Department of Environment, Food, and Rural Affairs has contracted your company to perform a detailed analysis of the UK dairy industry to help them understand the industry's value. </p>\n",
    "<p>Your team has divided the analysis project into several tasks. One of the tasks is to determine the value of the cheddar cheese industry. The revenue from cheese is much more than, for example, whole milk, but a kilogram of cheese requires almost ten liters of raw milk to make. Your first task is to determine the annual cost of milk needed to produce cheddar cheese over the past five years. </p>\n",
    "<p>You have been provided with three datasets. <em><strong>Please note that 1000 kg = 1 metric tonne.</strong></em></p>\n",
    "<div style=\"background-color: #efebe4; color: #05192d; text-align:left; vertical-align: middle; padding: 15px 25px 15px 25px; line-height: 1.6;\">\n",
    "    <div style=\"font-size:16px\"><b>datasets/milk_prices.csv - The monthly prices, volume, protein percentage and butterfat percentage of milk </b>\n",
    "    </div>\n",
    "Source: <a href=\"https://environment.data.gov.uk/linked-data/cube/explore?uri=http%3A%2F%2Fenvironment.data.gov.uk%2Flinked-data%2Fcatalog%2Fdatasets%2Fentry%2Fmilk-prices-and-composition-of-milk-annual-statistics&filters-drawer=closed\">Defra Data Services Platform</a>\n",
    "<ul>\n",
    "    <li><b>Time: </b>The month and year when the value was recorded.</li>\n",
    "    <li><b>Measure Type: </b>The type of measure recorded.</li>\n",
    "    <li><b>Price:</b> The price of milk (in Pounds per liter).</li>\n",
    "    <li><b>Volume:</b> The amount of milk produced (in million liters).</li>\n",
    "    <li><b>Protein:</b> The protein content of the milk (percentage).</li>\n",
    "    <li><b>Butterfat:</b> The butterfat content of the milk (percentage).</li>\n",
    "    <li><b>Unit of Measure:</b> The units specific to the measure type.</li>\n",
    "</ul>\n",
    "</div>\n",
    "<div style=\"background-color: #efebe4; color: #05192d; text-align:left; vertical-align: middle; padding: 15px 25px 15px 25px; line-height: 1.6; margin-top: 17px;\">\n",
    "    <div style=\"font-size:16px\"><b>datasets/Milk_products_production.csv - The monthly production figures of milk, cream and cheddar cheese</b>\n",
    "    </div>\n",
    "Source: <a href=\"https://www.gov.uk/government/statistics/milk-utilisation-by-dairies-in-england-and-wales\">GOV.UK</a>\n",
    "    <ul>\n",
    "        <li><b>Unnamed: 0: </b>The year and month when the value was recorded.</li>\n",
    "        <li><b>Liquid Milk Production: </b>The total amount of milk produced (in million liters).</li>\n",
    "        <li><b>Cream Production: </b>The total amount of cream produced (in million liters).</li>\n",
    "        <li><b>Cheddar Cheese Production:</b>The total amount of cheddar cheese produced (in thousand tonnes).</li>\n",
    "    </ul>\n",
    "</div>\n",
    "<div style=\"background-color: #efebe4; color: #05192d; text-align:left; vertical-align: middle; padding: 15px 25px 15px 25px; line-height: 1.6; margin-top: 17px;\">    \n",
    "    <div style=\"font-size:16px\"><b>datasets/conversion_factors.xls - Liters of milk used to make one kilogram of product</b>\n",
    "    </div>\n",
    "Source: <a href=\"https://www.gov.uk/government/statistics/milk-utilisation-by-dairies-in-england-and-wales\">GOV.UK</a>\n",
    "    <ul>\n",
    "        <li><b>Product: </b>The type of product.</li>\n",
    "        <li><b>Conversion factor (litres/kg):</b> Liters of milk used to make one kilogram of product (in liters/kg).</li>\n",
    "    </ul>\n",
    "</div>"
   ]
  },
  {
   "cell_type": "code",
   "execution_count": 11,
   "metadata": {
    "dc": {
     "key": "4"
    },
    "tags": [
     "sample_code"
    ]
   },
   "outputs": [],
   "source": [
    "# Use this cell to begin your analysis, and add as many as you would like!"
   ]
  },
  {
   "cell_type": "code",
   "execution_count": 12,
   "metadata": {
    "dc": {
     "key": "4"
    }
   },
   "outputs": [],
   "source": [
    "import pandas as pd\n",
    "\n",
    "pd.set_option(\"max_colwidth\", 200)\n",
    "\n",
    "# pd.set_option('display.max_rows', 100) # if you wish to see more rows rather than default, just uncomment this line.\n",
    "pd.set_option(\"display.max_columns\", 20)\n",
    "pd.set_option(\"display.float_format\", lambda x: \"%.3f\" % x)"
   ]
  },
  {
   "cell_type": "code",
   "execution_count": 13,
   "metadata": {
    "dc": {
     "key": "4"
    }
   },
   "outputs": [],
   "source": [
    "milk_prices_df = pd.read_csv(\"datasets/milk_prices.csv\")"
   ]
  },
  {
   "cell_type": "code",
   "execution_count": 14,
   "metadata": {
    "dc": {
     "key": "4"
    }
   },
   "outputs": [],
   "source": [
    "Milk_products_production_df = pd.read_csv(\n",
    "    \"datasets/Milk_products_production.csv\", skiprows=1\n",
    ")"
   ]
  },
  {
   "cell_type": "markdown",
   "metadata": {},
   "source": [
    "We have two head columns in this file, so I need to skip row."
   ]
  },
  {
   "cell_type": "code",
   "execution_count": 15,
   "metadata": {
    "dc": {
     "key": "4"
    }
   },
   "outputs": [],
   "source": [
    "conversion_factors_df = pd.read_excel(\"datasets/conversion_factors.xlsx\")"
   ]
  },
  {
   "cell_type": "code",
   "execution_count": 16,
   "metadata": {
    "dc": {
     "key": "4"
    }
   },
   "outputs": [
    {
     "data": {
      "text/html": [
       "<div>\n",
       "<style scoped>\n",
       "    .dataframe tbody tr th:only-of-type {\n",
       "        vertical-align: middle;\n",
       "    }\n",
       "\n",
       "    .dataframe tbody tr th {\n",
       "        vertical-align: top;\n",
       "    }\n",
       "\n",
       "    .dataframe thead th {\n",
       "        text-align: right;\n",
       "    }\n",
       "</style>\n",
       "<table border=\"1\" class=\"dataframe\">\n",
       "  <thead>\n",
       "    <tr style=\"text-align: right;\">\n",
       "      <th></th>\n",
       "      <th>Time</th>\n",
       "      <th>Measure type</th>\n",
       "      <th>Price</th>\n",
       "      <th>Volume</th>\n",
       "      <th>Protein</th>\n",
       "      <th>Butterfat</th>\n",
       "      <th>Unit of Measure</th>\n",
       "    </tr>\n",
       "  </thead>\n",
       "  <tbody>\n",
       "    <tr>\n",
       "      <th>0</th>\n",
       "      <td>1986-10</td>\n",
       "      <td>Price</td>\n",
       "      <td>0.170</td>\n",
       "      <td>NaN</td>\n",
       "      <td>NaN</td>\n",
       "      <td>NaN</td>\n",
       "      <td>Pounds per litre</td>\n",
       "    </tr>\n",
       "    <tr>\n",
       "      <th>1</th>\n",
       "      <td>2000-04</td>\n",
       "      <td>Volume</td>\n",
       "      <td>NaN</td>\n",
       "      <td>1177.000</td>\n",
       "      <td>NaN</td>\n",
       "      <td>NaN</td>\n",
       "      <td>Million litres</td>\n",
       "    </tr>\n",
       "    <tr>\n",
       "      <th>2</th>\n",
       "      <td>1994-12</td>\n",
       "      <td>Protein</td>\n",
       "      <td>NaN</td>\n",
       "      <td>NaN</td>\n",
       "      <td>3.210</td>\n",
       "      <td>NaN</td>\n",
       "      <td>Percentage</td>\n",
       "    </tr>\n",
       "    <tr>\n",
       "      <th>3</th>\n",
       "      <td>1997-10</td>\n",
       "      <td>Price</td>\n",
       "      <td>0.208</td>\n",
       "      <td>NaN</td>\n",
       "      <td>NaN</td>\n",
       "      <td>NaN</td>\n",
       "      <td>Pounds per litre</td>\n",
       "    </tr>\n",
       "    <tr>\n",
       "      <th>4</th>\n",
       "      <td>2002-10</td>\n",
       "      <td>Protein</td>\n",
       "      <td>NaN</td>\n",
       "      <td>NaN</td>\n",
       "      <td>3.410</td>\n",
       "      <td>NaN</td>\n",
       "      <td>Percentage</td>\n",
       "    </tr>\n",
       "  </tbody>\n",
       "</table>\n",
       "</div>"
      ],
      "text/plain": [
       "      Time Measure type  Price   Volume  Protein  Butterfat   Unit of Measure\n",
       "0  1986-10        Price  0.170      NaN      NaN        NaN  Pounds per litre\n",
       "1  2000-04       Volume    NaN 1177.000      NaN        NaN    Million litres\n",
       "2  1994-12      Protein    NaN      NaN    3.210        NaN        Percentage\n",
       "3  1997-10        Price  0.208      NaN      NaN        NaN  Pounds per litre\n",
       "4  2002-10      Protein    NaN      NaN    3.410        NaN        Percentage"
      ]
     },
     "execution_count": 16,
     "metadata": {},
     "output_type": "execute_result"
    }
   ],
   "source": [
    "milk_prices_df.head()"
   ]
  },
  {
   "cell_type": "markdown",
   "metadata": {},
   "source": [
    "Seems like we have mixed data and lots of missing values here"
   ]
  },
  {
   "cell_type": "code",
   "execution_count": 17,
   "metadata": {
    "dc": {
     "key": "4"
    }
   },
   "outputs": [
    {
     "data": {
      "text/html": [
       "<div>\n",
       "<style scoped>\n",
       "    .dataframe tbody tr th:only-of-type {\n",
       "        vertical-align: middle;\n",
       "    }\n",
       "\n",
       "    .dataframe tbody tr th {\n",
       "        vertical-align: top;\n",
       "    }\n",
       "\n",
       "    .dataframe thead th {\n",
       "        text-align: right;\n",
       "    }\n",
       "</style>\n",
       "<table border=\"1\" class=\"dataframe\">\n",
       "  <thead>\n",
       "    <tr style=\"text-align: right;\">\n",
       "      <th></th>\n",
       "      <th>Time</th>\n",
       "      <th>Measure type</th>\n",
       "      <th>Price</th>\n",
       "      <th>Volume</th>\n",
       "      <th>Protein</th>\n",
       "      <th>Butterfat</th>\n",
       "      <th>Unit of Measure</th>\n",
       "    </tr>\n",
       "  </thead>\n",
       "  <tbody>\n",
       "    <tr>\n",
       "      <th>974</th>\n",
       "      <td>1970-01</td>\n",
       "      <td>Price</td>\n",
       "      <td>0.041</td>\n",
       "      <td>NaN</td>\n",
       "      <td>NaN</td>\n",
       "      <td>NaN</td>\n",
       "      <td>Pounds per litre</td>\n",
       "    </tr>\n",
       "    <tr>\n",
       "      <th>924</th>\n",
       "      <td>1970-02</td>\n",
       "      <td>Price</td>\n",
       "      <td>0.041</td>\n",
       "      <td>NaN</td>\n",
       "      <td>NaN</td>\n",
       "      <td>NaN</td>\n",
       "      <td>Pounds per litre</td>\n",
       "    </tr>\n",
       "    <tr>\n",
       "      <th>811</th>\n",
       "      <td>1970-03</td>\n",
       "      <td>Price</td>\n",
       "      <td>0.041</td>\n",
       "      <td>NaN</td>\n",
       "      <td>NaN</td>\n",
       "      <td>NaN</td>\n",
       "      <td>Pounds per litre</td>\n",
       "    </tr>\n",
       "    <tr>\n",
       "      <th>785</th>\n",
       "      <td>1970-04</td>\n",
       "      <td>Price</td>\n",
       "      <td>0.037</td>\n",
       "      <td>NaN</td>\n",
       "      <td>NaN</td>\n",
       "      <td>NaN</td>\n",
       "      <td>Pounds per litre</td>\n",
       "    </tr>\n",
       "    <tr>\n",
       "      <th>689</th>\n",
       "      <td>1970-05</td>\n",
       "      <td>Price</td>\n",
       "      <td>0.029</td>\n",
       "      <td>NaN</td>\n",
       "      <td>NaN</td>\n",
       "      <td>NaN</td>\n",
       "      <td>Pounds per litre</td>\n",
       "    </tr>\n",
       "    <tr>\n",
       "      <th>...</th>\n",
       "      <td>...</td>\n",
       "      <td>...</td>\n",
       "      <td>...</td>\n",
       "      <td>...</td>\n",
       "      <td>...</td>\n",
       "      <td>...</td>\n",
       "      <td>...</td>\n",
       "    </tr>\n",
       "    <tr>\n",
       "      <th>1352</th>\n",
       "      <td>2020-10</td>\n",
       "      <td>Volume</td>\n",
       "      <td>NaN</td>\n",
       "      <td>1203.000</td>\n",
       "      <td>NaN</td>\n",
       "      <td>NaN</td>\n",
       "      <td>Million litres</td>\n",
       "    </tr>\n",
       "    <tr>\n",
       "      <th>267</th>\n",
       "      <td>2020-11</td>\n",
       "      <td>Butterfat</td>\n",
       "      <td>NaN</td>\n",
       "      <td>NaN</td>\n",
       "      <td>NaN</td>\n",
       "      <td>4.310</td>\n",
       "      <td>Percentage</td>\n",
       "    </tr>\n",
       "    <tr>\n",
       "      <th>686</th>\n",
       "      <td>2020-11</td>\n",
       "      <td>Price</td>\n",
       "      <td>0.306</td>\n",
       "      <td>NaN</td>\n",
       "      <td>NaN</td>\n",
       "      <td>NaN</td>\n",
       "      <td>Pounds per litre</td>\n",
       "    </tr>\n",
       "    <tr>\n",
       "      <th>1479</th>\n",
       "      <td>2020-11</td>\n",
       "      <td>Volume</td>\n",
       "      <td>NaN</td>\n",
       "      <td>1187.000</td>\n",
       "      <td>NaN</td>\n",
       "      <td>NaN</td>\n",
       "      <td>Million litres</td>\n",
       "    </tr>\n",
       "    <tr>\n",
       "      <th>1175</th>\n",
       "      <td>2020-11</td>\n",
       "      <td>Protein</td>\n",
       "      <td>NaN</td>\n",
       "      <td>NaN</td>\n",
       "      <td>3.430</td>\n",
       "      <td>NaN</td>\n",
       "      <td>Percentage</td>\n",
       "    </tr>\n",
       "  </tbody>\n",
       "</table>\n",
       "<p>1557 rows × 7 columns</p>\n",
       "</div>"
      ],
      "text/plain": [
       "         Time Measure type  Price   Volume  Protein  Butterfat  \\\n",
       "974   1970-01        Price  0.041      NaN      NaN        NaN   \n",
       "924   1970-02        Price  0.041      NaN      NaN        NaN   \n",
       "811   1970-03        Price  0.041      NaN      NaN        NaN   \n",
       "785   1970-04        Price  0.037      NaN      NaN        NaN   \n",
       "689   1970-05        Price  0.029      NaN      NaN        NaN   \n",
       "...       ...          ...    ...      ...      ...        ...   \n",
       "1352  2020-10       Volume    NaN 1203.000      NaN        NaN   \n",
       "267   2020-11    Butterfat    NaN      NaN      NaN      4.310   \n",
       "686   2020-11        Price  0.306      NaN      NaN        NaN   \n",
       "1479  2020-11       Volume    NaN 1187.000      NaN        NaN   \n",
       "1175  2020-11      Protein    NaN      NaN    3.430        NaN   \n",
       "\n",
       "       Unit of Measure  \n",
       "974   Pounds per litre  \n",
       "924   Pounds per litre  \n",
       "811   Pounds per litre  \n",
       "785   Pounds per litre  \n",
       "689   Pounds per litre  \n",
       "...                ...  \n",
       "1352    Million litres  \n",
       "267         Percentage  \n",
       "686   Pounds per litre  \n",
       "1479    Million litres  \n",
       "1175        Percentage  \n",
       "\n",
       "[1557 rows x 7 columns]"
      ]
     },
     "execution_count": 17,
     "metadata": {},
     "output_type": "execute_result"
    }
   ],
   "source": [
    "milk_prices_df.sort_values(by=\"Time\")"
   ]
  },
  {
   "cell_type": "markdown",
   "metadata": {
    "collapsed": true,
    "dc": {
     "key": "4"
    }
   },
   "source": [
    "So in this case we only need 'Price' for 'Measure Type' Column"
   ]
  },
  {
   "cell_type": "code",
   "execution_count": 18,
   "metadata": {
    "dc": {
     "key": "4"
    }
   },
   "outputs": [
    {
     "data": {
      "text/html": [
       "<div>\n",
       "<style scoped>\n",
       "    .dataframe tbody tr th:only-of-type {\n",
       "        vertical-align: middle;\n",
       "    }\n",
       "\n",
       "    .dataframe tbody tr th {\n",
       "        vertical-align: top;\n",
       "    }\n",
       "\n",
       "    .dataframe thead th {\n",
       "        text-align: right;\n",
       "    }\n",
       "</style>\n",
       "<table border=\"1\" class=\"dataframe\">\n",
       "  <thead>\n",
       "    <tr style=\"text-align: right;\">\n",
       "      <th></th>\n",
       "      <th>Unnamed: 0</th>\n",
       "      <th>Million Litres</th>\n",
       "      <th>Million Litres.1</th>\n",
       "      <th>Thousand tonnes</th>\n",
       "    </tr>\n",
       "  </thead>\n",
       "  <tbody>\n",
       "    <tr>\n",
       "      <th>0</th>\n",
       "      <td>Jan-15</td>\n",
       "      <td>571,2</td>\n",
       "      <td>25,7</td>\n",
       "      <td>24,2</td>\n",
       "    </tr>\n",
       "    <tr>\n",
       "      <th>1</th>\n",
       "      <td>Feb-15</td>\n",
       "      <td>524,1</td>\n",
       "      <td>22,5</td>\n",
       "      <td>21,3</td>\n",
       "    </tr>\n",
       "    <tr>\n",
       "      <th>2</th>\n",
       "      <td>Mar-15</td>\n",
       "      <td>583,0</td>\n",
       "      <td>25,7</td>\n",
       "      <td>26,2</td>\n",
       "    </tr>\n",
       "    <tr>\n",
       "      <th>3</th>\n",
       "      <td>Apr-15</td>\n",
       "      <td>542,0</td>\n",
       "      <td>26,4</td>\n",
       "      <td>29,3</td>\n",
       "    </tr>\n",
       "    <tr>\n",
       "      <th>4</th>\n",
       "      <td>May-15</td>\n",
       "      <td>571,0</td>\n",
       "      <td>25,6</td>\n",
       "      <td>31,0</td>\n",
       "    </tr>\n",
       "    <tr>\n",
       "      <th>...</th>\n",
       "      <td>...</td>\n",
       "      <td>...</td>\n",
       "      <td>...</td>\n",
       "      <td>...</td>\n",
       "    </tr>\n",
       "    <tr>\n",
       "      <th>67</th>\n",
       "      <td>Aug-20</td>\n",
       "      <td>505,3</td>\n",
       "      <td>25,5</td>\n",
       "      <td>27,4</td>\n",
       "    </tr>\n",
       "    <tr>\n",
       "      <th>68</th>\n",
       "      <td>Sep-20</td>\n",
       "      <td>499,0</td>\n",
       "      <td>26,0</td>\n",
       "      <td>26,1</td>\n",
       "    </tr>\n",
       "    <tr>\n",
       "      <th>69</th>\n",
       "      <td>Oct-20</td>\n",
       "      <td>519,3</td>\n",
       "      <td>27,7</td>\n",
       "      <td>25,6</td>\n",
       "    </tr>\n",
       "    <tr>\n",
       "      <th>70</th>\n",
       "      <td>Nov-20</td>\n",
       "      <td>522,3</td>\n",
       "      <td>28,9</td>\n",
       "      <td>25,3</td>\n",
       "    </tr>\n",
       "    <tr>\n",
       "      <th>71</th>\n",
       "      <td>Dec-20</td>\n",
       "      <td>530,3</td>\n",
       "      <td>29,8</td>\n",
       "      <td>27,3</td>\n",
       "    </tr>\n",
       "  </tbody>\n",
       "</table>\n",
       "<p>72 rows × 4 columns</p>\n",
       "</div>"
      ],
      "text/plain": [
       "   Unnamed: 0 Million Litres Million Litres.1 Thousand tonnes\n",
       "0      Jan-15          571,2             25,7            24,2\n",
       "1      Feb-15          524,1             22,5            21,3\n",
       "2      Mar-15          583,0             25,7            26,2\n",
       "3      Apr-15          542,0             26,4            29,3\n",
       "4      May-15          571,0             25,6            31,0\n",
       "..        ...            ...              ...             ...\n",
       "67     Aug-20          505,3             25,5            27,4\n",
       "68     Sep-20          499,0             26,0            26,1\n",
       "69     Oct-20          519,3             27,7            25,6\n",
       "70     Nov-20          522,3             28,9            25,3\n",
       "71     Dec-20          530,3             29,8            27,3\n",
       "\n",
       "[72 rows x 4 columns]"
      ]
     },
     "execution_count": 18,
     "metadata": {},
     "output_type": "execute_result"
    }
   ],
   "source": [
    "Milk_products_production_df"
   ]
  },
  {
   "cell_type": "markdown",
   "metadata": {},
   "source": [
    "The formats of date between these data frame are different, and they use comma instead of dot in Milk_products_production. We need to correct the format later."
   ]
  },
  {
   "cell_type": "code",
   "execution_count": 19,
   "metadata": {
    "dc": {
     "key": "4"
    }
   },
   "outputs": [
    {
     "data": {
      "text/html": [
       "<div>\n",
       "<style scoped>\n",
       "    .dataframe tbody tr th:only-of-type {\n",
       "        vertical-align: middle;\n",
       "    }\n",
       "\n",
       "    .dataframe tbody tr th {\n",
       "        vertical-align: top;\n",
       "    }\n",
       "\n",
       "    .dataframe thead th {\n",
       "        text-align: right;\n",
       "    }\n",
       "</style>\n",
       "<table border=\"1\" class=\"dataframe\">\n",
       "  <thead>\n",
       "    <tr style=\"text-align: right;\">\n",
       "      <th></th>\n",
       "      <th>Product</th>\n",
       "      <th>Conversion factor (litres/kg)</th>\n",
       "    </tr>\n",
       "  </thead>\n",
       "  <tbody>\n",
       "    <tr>\n",
       "      <th>0</th>\n",
       "      <td>Butter (from Cream)</td>\n",
       "      <td>2.040</td>\n",
       "    </tr>\n",
       "    <tr>\n",
       "      <th>1</th>\n",
       "      <td>Cheddar</td>\n",
       "      <td>9.500</td>\n",
       "    </tr>\n",
       "    <tr>\n",
       "      <th>2</th>\n",
       "      <td>Other Long Life Territorials</td>\n",
       "      <td>9.200</td>\n",
       "    </tr>\n",
       "    <tr>\n",
       "      <th>3</th>\n",
       "      <td>Short life Territorials</td>\n",
       "      <td>8.100</td>\n",
       "    </tr>\n",
       "    <tr>\n",
       "      <th>4</th>\n",
       "      <td>Blue vein</td>\n",
       "      <td>9.100</td>\n",
       "    </tr>\n",
       "    <tr>\n",
       "      <th>5</th>\n",
       "      <td>Mozarella</td>\n",
       "      <td>9.800</td>\n",
       "    </tr>\n",
       "    <tr>\n",
       "      <th>6</th>\n",
       "      <td>Cottage cheese /Fromage frais</td>\n",
       "      <td>3.600</td>\n",
       "    </tr>\n",
       "    <tr>\n",
       "      <th>7</th>\n",
       "      <td>Soft cheese</td>\n",
       "      <td>8.000</td>\n",
       "    </tr>\n",
       "    <tr>\n",
       "      <th>8</th>\n",
       "      <td>Non-specified cheese</td>\n",
       "      <td>9.700</td>\n",
       "    </tr>\n",
       "    <tr>\n",
       "      <th>9</th>\n",
       "      <td>Condensed Milk</td>\n",
       "      <td>2.700</td>\n",
       "    </tr>\n",
       "    <tr>\n",
       "      <th>10</th>\n",
       "      <td>Milk Powder (from Whole milk)</td>\n",
       "      <td>8.500</td>\n",
       "    </tr>\n",
       "    <tr>\n",
       "      <th>11</th>\n",
       "      <td>Milk Powder (from Skim milk)</td>\n",
       "      <td>10.100</td>\n",
       "    </tr>\n",
       "    <tr>\n",
       "      <th>12</th>\n",
       "      <td>Milk Powder (from Cream)</td>\n",
       "      <td>12.300</td>\n",
       "    </tr>\n",
       "    <tr>\n",
       "      <th>13</th>\n",
       "      <td>Cream (from cream)</td>\n",
       "      <td>1.000</td>\n",
       "    </tr>\n",
       "    <tr>\n",
       "      <th>14</th>\n",
       "      <td>Yoghurt</td>\n",
       "      <td>1.100</td>\n",
       "    </tr>\n",
       "  </tbody>\n",
       "</table>\n",
       "</div>"
      ],
      "text/plain": [
       "                          Product  Conversion factor (litres/kg)\n",
       "0             Butter (from Cream)                          2.040\n",
       "1                         Cheddar                          9.500\n",
       "2    Other Long Life Territorials                          9.200\n",
       "3         Short life Territorials                          8.100\n",
       "4                       Blue vein                          9.100\n",
       "5                       Mozarella                          9.800\n",
       "6   Cottage cheese /Fromage frais                          3.600\n",
       "7                     Soft cheese                          8.000\n",
       "8            Non-specified cheese                          9.700\n",
       "9                  Condensed Milk                          2.700\n",
       "10  Milk Powder (from Whole milk)                          8.500\n",
       "11   Milk Powder (from Skim milk)                         10.100\n",
       "12       Milk Powder (from Cream)                         12.300\n",
       "13             Cream (from cream)                          1.000\n",
       "14                        Yoghurt                          1.100"
      ]
     },
     "execution_count": 19,
     "metadata": {},
     "output_type": "execute_result"
    }
   ],
   "source": [
    "conversion_factors_df"
   ]
  },
  {
   "cell_type": "markdown",
   "metadata": {},
   "source": [
    "Since we are only calculating the cost of Cheddar, we will define this variable and use it later."
   ]
  },
  {
   "cell_type": "code",
   "execution_count": 20,
   "metadata": {},
   "outputs": [],
   "source": [
    "liter_per_kg = 9.5"
   ]
  },
  {
   "cell_type": "code",
   "execution_count": 21,
   "metadata": {
    "dc": {
     "key": "4"
    }
   },
   "outputs": [
    {
     "data": {
      "text/plain": [
       "Time                  0\n",
       "Measure type          0\n",
       "Price               946\n",
       "Volume             1244\n",
       "Protein            1244\n",
       "Butterfat          1237\n",
       "Unit of Measure       0\n",
       "dtype: int64"
      ]
     },
     "execution_count": 21,
     "metadata": {},
     "output_type": "execute_result"
    }
   ],
   "source": [
    "milk_prices_df.isna().sum()"
   ]
  },
  {
   "cell_type": "markdown",
   "metadata": {},
   "source": [
    "milk_prices_df has lots of data that we don't need, I'll drop the data with missing Price value first."
   ]
  },
  {
   "cell_type": "code",
   "execution_count": 22,
   "metadata": {
    "dc": {
     "key": "4"
    }
   },
   "outputs": [],
   "source": [
    "milk_prices_df.dropna(subset=[\"Price\"], inplace=True)"
   ]
  },
  {
   "cell_type": "code",
   "execution_count": 23,
   "metadata": {
    "dc": {
     "key": "4"
    }
   },
   "outputs": [
    {
     "data": {
      "text/plain": [
       "Unnamed: 0          0\n",
       "Million Litres      0\n",
       "Million Litres.1    0\n",
       "Thousand tonnes     0\n",
       "dtype: int64"
      ]
     },
     "execution_count": 23,
     "metadata": {},
     "output_type": "execute_result"
    }
   ],
   "source": [
    "Milk_products_production_df.isna().sum()"
   ]
  },
  {
   "cell_type": "code",
   "execution_count": 24,
   "metadata": {
    "dc": {
     "key": "4"
    }
   },
   "outputs": [
    {
     "data": {
      "text/plain": [
       "Product                          0\n",
       "Conversion factor (litres/kg)    0\n",
       "dtype: int64"
      ]
     },
     "execution_count": 24,
     "metadata": {},
     "output_type": "execute_result"
    }
   ],
   "source": [
    "conversion_factors_df.isna().sum()"
   ]
  },
  {
   "cell_type": "code",
   "execution_count": 25,
   "metadata": {
    "dc": {
     "key": "4"
    }
   },
   "outputs": [
    {
     "data": {
      "text/html": [
       "<div>\n",
       "<style scoped>\n",
       "    .dataframe tbody tr th:only-of-type {\n",
       "        vertical-align: middle;\n",
       "    }\n",
       "\n",
       "    .dataframe tbody tr th {\n",
       "        vertical-align: top;\n",
       "    }\n",
       "\n",
       "    .dataframe thead th {\n",
       "        text-align: right;\n",
       "    }\n",
       "</style>\n",
       "<table border=\"1\" class=\"dataframe\">\n",
       "  <thead>\n",
       "    <tr style=\"text-align: right;\">\n",
       "      <th></th>\n",
       "      <th>Time</th>\n",
       "      <th>Measure type</th>\n",
       "      <th>Price</th>\n",
       "      <th>Volume</th>\n",
       "      <th>Protein</th>\n",
       "      <th>Butterfat</th>\n",
       "      <th>Unit of Measure</th>\n",
       "    </tr>\n",
       "  </thead>\n",
       "  <tbody>\n",
       "    <tr>\n",
       "      <th>0</th>\n",
       "      <td>1986-10</td>\n",
       "      <td>Price</td>\n",
       "      <td>0.170</td>\n",
       "      <td>NaN</td>\n",
       "      <td>NaN</td>\n",
       "      <td>NaN</td>\n",
       "      <td>Pounds per litre</td>\n",
       "    </tr>\n",
       "    <tr>\n",
       "      <th>3</th>\n",
       "      <td>1997-10</td>\n",
       "      <td>Price</td>\n",
       "      <td>0.208</td>\n",
       "      <td>NaN</td>\n",
       "      <td>NaN</td>\n",
       "      <td>NaN</td>\n",
       "      <td>Pounds per litre</td>\n",
       "    </tr>\n",
       "    <tr>\n",
       "      <th>16</th>\n",
       "      <td>2009-11</td>\n",
       "      <td>Price</td>\n",
       "      <td>0.249</td>\n",
       "      <td>NaN</td>\n",
       "      <td>NaN</td>\n",
       "      <td>NaN</td>\n",
       "      <td>Pounds per litre</td>\n",
       "    </tr>\n",
       "    <tr>\n",
       "      <th>24</th>\n",
       "      <td>2008-10</td>\n",
       "      <td>Price</td>\n",
       "      <td>0.274</td>\n",
       "      <td>NaN</td>\n",
       "      <td>NaN</td>\n",
       "      <td>NaN</td>\n",
       "      <td>Pounds per litre</td>\n",
       "    </tr>\n",
       "    <tr>\n",
       "      <th>26</th>\n",
       "      <td>2019-10</td>\n",
       "      <td>Price</td>\n",
       "      <td>0.294</td>\n",
       "      <td>NaN</td>\n",
       "      <td>NaN</td>\n",
       "      <td>NaN</td>\n",
       "      <td>Pounds per litre</td>\n",
       "    </tr>\n",
       "    <tr>\n",
       "      <th>35</th>\n",
       "      <td>1979-03</td>\n",
       "      <td>Price</td>\n",
       "      <td>0.111</td>\n",
       "      <td>NaN</td>\n",
       "      <td>NaN</td>\n",
       "      <td>NaN</td>\n",
       "      <td>Pounds per litre</td>\n",
       "    </tr>\n",
       "    <tr>\n",
       "      <th>37</th>\n",
       "      <td>1978-02</td>\n",
       "      <td>Price</td>\n",
       "      <td>0.102</td>\n",
       "      <td>NaN</td>\n",
       "      <td>NaN</td>\n",
       "      <td>NaN</td>\n",
       "      <td>Pounds per litre</td>\n",
       "    </tr>\n",
       "    <tr>\n",
       "      <th>40</th>\n",
       "      <td>1989-02</td>\n",
       "      <td>Price</td>\n",
       "      <td>0.176</td>\n",
       "      <td>NaN</td>\n",
       "      <td>NaN</td>\n",
       "      <td>NaN</td>\n",
       "      <td>Pounds per litre</td>\n",
       "    </tr>\n",
       "    <tr>\n",
       "      <th>43</th>\n",
       "      <td>1977-12</td>\n",
       "      <td>Price</td>\n",
       "      <td>0.104</td>\n",
       "      <td>NaN</td>\n",
       "      <td>NaN</td>\n",
       "      <td>NaN</td>\n",
       "      <td>Pounds per litre</td>\n",
       "    </tr>\n",
       "    <tr>\n",
       "      <th>45</th>\n",
       "      <td>1988-12</td>\n",
       "      <td>Price</td>\n",
       "      <td>0.178</td>\n",
       "      <td>NaN</td>\n",
       "      <td>NaN</td>\n",
       "      <td>NaN</td>\n",
       "      <td>Pounds per litre</td>\n",
       "    </tr>\n",
       "  </tbody>\n",
       "</table>\n",
       "</div>"
      ],
      "text/plain": [
       "       Time Measure type  Price  Volume  Protein  Butterfat   Unit of Measure\n",
       "0   1986-10        Price  0.170     NaN      NaN        NaN  Pounds per litre\n",
       "3   1997-10        Price  0.208     NaN      NaN        NaN  Pounds per litre\n",
       "16  2009-11        Price  0.249     NaN      NaN        NaN  Pounds per litre\n",
       "24  2008-10        Price  0.274     NaN      NaN        NaN  Pounds per litre\n",
       "26  2019-10        Price  0.294     NaN      NaN        NaN  Pounds per litre\n",
       "35  1979-03        Price  0.111     NaN      NaN        NaN  Pounds per litre\n",
       "37  1978-02        Price  0.102     NaN      NaN        NaN  Pounds per litre\n",
       "40  1989-02        Price  0.176     NaN      NaN        NaN  Pounds per litre\n",
       "43  1977-12        Price  0.104     NaN      NaN        NaN  Pounds per litre\n",
       "45  1988-12        Price  0.178     NaN      NaN        NaN  Pounds per litre"
      ]
     },
     "execution_count": 25,
     "metadata": {},
     "output_type": "execute_result"
    }
   ],
   "source": [
    "milk_prices_df.head(10)"
   ]
  },
  {
   "cell_type": "markdown",
   "metadata": {
    "collapsed": true,
    "dc": {
     "key": "4"
    }
   },
   "source": [
    "Now the milk_prices_df dataframe seems clear right now."
   ]
  },
  {
   "cell_type": "code",
   "execution_count": 26,
   "metadata": {
    "dc": {
     "key": "4"
    }
   },
   "outputs": [],
   "source": [
    "month_map = {\n",
    "    \"Jan\": \"01\",\n",
    "    \"Feb\": \"02\",\n",
    "    \"Mar\": \"03\",\n",
    "    \"Apr\": \"04\",\n",
    "    \"May\": \"05\",\n",
    "    \"Jun\": \"06\",\n",
    "    \"Jul\": \"07\",\n",
    "    \"Aug\": \"08\",\n",
    "    \"Sep\": \"09\",\n",
    "    \"Oct\": \"10\",\n",
    "    \"Nov\": \"11\",\n",
    "    \"Dec\": \"12\",\n",
    "}"
   ]
  },
  {
   "cell_type": "markdown",
   "metadata": {},
   "source": [
    "Milk_products_production_df has different format of date, I'll use this dict to format it."
   ]
  },
  {
   "cell_type": "code",
   "execution_count": 27,
   "metadata": {
    "dc": {
     "key": "4"
    }
   },
   "outputs": [],
   "source": [
    "Milk_products_production_df[\"Time\"] = Milk_products_production_df.apply(\n",
    "    lambda x: \"20\" + x[\"Unnamed: 0\"][-2:] + \"-\" + month_map.get(x[\"Unnamed: 0\"][0:3]),\n",
    "    axis=1,\n",
    ")"
   ]
  },
  {
   "cell_type": "markdown",
   "metadata": {},
   "source": [
    "Now Milk_products_production_df has a same Time column as milk_prices_df"
   ]
  },
  {
   "cell_type": "code",
   "execution_count": 28,
   "metadata": {
    "dc": {
     "key": "4"
    }
   },
   "outputs": [],
   "source": [
    "Milk_products_production_df[\"Thousand tonnes\"] = Milk_products_production_df[\n",
    "    \"Thousand tonnes\"\n",
    "].str.replace(\",\", \".\")\n",
    "Milk_products_production_df[\"Thousand tonnes\"] = Milk_products_production_df[\n",
    "    \"Thousand tonnes\"\n",
    "].astype(float)"
   ]
  },
  {
   "cell_type": "markdown",
   "metadata": {},
   "source": [
    "Replace comma with dot, and set the data type to float. Since we need to calculate with it."
   ]
  },
  {
   "cell_type": "code",
   "execution_count": 29,
   "metadata": {
    "dc": {
     "key": "4"
    }
   },
   "outputs": [],
   "source": [
    "Milk_products_production_df[\"liter_used\"] = (\n",
    "    Milk_products_production_df[\"Thousand tonnes\"] * 1000 * liter_per_kg\n",
    ")"
   ]
  },
  {
   "cell_type": "markdown",
   "metadata": {
    "dc": {
     "key": "4"
    }
   },
   "source": [
    "Now I got the liter used for every month, we only need to times with price to get the cost."
   ]
  },
  {
   "cell_type": "code",
   "execution_count": 30,
   "metadata": {
    "dc": {
     "key": "4"
    }
   },
   "outputs": [],
   "source": [
    "Milk_products_production_df = Milk_products_production_df.merge(\n",
    "    milk_prices_df, how=\"inner\", on=\"Time\"\n",
    ")"
   ]
  },
  {
   "cell_type": "code",
   "execution_count": 31,
   "metadata": {
    "dc": {
     "key": "4"
    }
   },
   "outputs": [],
   "source": [
    "Milk_products_production_df[\"Cost\"] = Milk_products_production_df.apply(\n",
    "    lambda x: x[\"liter_used\"] * x[\"Price\"], axis=1\n",
    ")"
   ]
  },
  {
   "cell_type": "code",
   "execution_count": 32,
   "metadata": {
    "dc": {
     "key": "4"
    }
   },
   "outputs": [],
   "source": [
    "Milk_products_production_df[\"year\"] = Milk_products_production_df.apply(\n",
    "    lambda x: x[\"Time\"][0:4], axis=1\n",
    ")"
   ]
  },
  {
   "cell_type": "markdown",
   "metadata": {},
   "source": [
    "The question is asking us for annual cost, so I create a column for year and group by it"
   ]
  },
  {
   "cell_type": "code",
   "execution_count": 33,
   "metadata": {
    "dc": {
     "key": "4"
    }
   },
   "outputs": [],
   "source": [
    "annual_cost = pd.DataFrame(Milk_products_production_df.groupby(\"year\")[\"Cost\"].sum())"
   ]
  },
  {
   "cell_type": "code",
   "execution_count": 34,
   "metadata": {
    "dc": {
     "key": "4"
    }
   },
   "outputs": [],
   "source": [
    "annual_cost.index.names = [\"Date\"]"
   ]
  },
  {
   "cell_type": "code",
   "execution_count": 35,
   "metadata": {
    "dc": {
     "key": "4"
    }
   },
   "outputs": [
    {
     "data": {
      "text/html": [
       "<div>\n",
       "<style scoped>\n",
       "    .dataframe tbody tr th:only-of-type {\n",
       "        vertical-align: middle;\n",
       "    }\n",
       "\n",
       "    .dataframe tbody tr th {\n",
       "        vertical-align: top;\n",
       "    }\n",
       "\n",
       "    .dataframe thead th {\n",
       "        text-align: right;\n",
       "    }\n",
       "</style>\n",
       "<table border=\"1\" class=\"dataframe\">\n",
       "  <thead>\n",
       "    <tr style=\"text-align: right;\">\n",
       "      <th></th>\n",
       "      <th>Cost</th>\n",
       "    </tr>\n",
       "    <tr>\n",
       "      <th>Date</th>\n",
       "      <th></th>\n",
       "    </tr>\n",
       "  </thead>\n",
       "  <tbody>\n",
       "    <tr>\n",
       "      <th>2015</th>\n",
       "      <td>702651.920</td>\n",
       "    </tr>\n",
       "    <tr>\n",
       "      <th>2016</th>\n",
       "      <td>666635.425</td>\n",
       "    </tr>\n",
       "    <tr>\n",
       "      <th>2017</th>\n",
       "      <td>887977.635</td>\n",
       "    </tr>\n",
       "    <tr>\n",
       "      <th>2018</th>\n",
       "      <td>922553.075</td>\n",
       "    </tr>\n",
       "    <tr>\n",
       "      <th>2019</th>\n",
       "      <td>896657.880</td>\n",
       "    </tr>\n",
       "    <tr>\n",
       "      <th>2020</th>\n",
       "      <td>836934.800</td>\n",
       "    </tr>\n",
       "  </tbody>\n",
       "</table>\n",
       "</div>"
      ],
      "text/plain": [
       "           Cost\n",
       "Date           \n",
       "2015 702651.920\n",
       "2016 666635.425\n",
       "2017 887977.635\n",
       "2018 922553.075\n",
       "2019 896657.880\n",
       "2020 836934.800"
      ]
     },
     "execution_count": 35,
     "metadata": {},
     "output_type": "execute_result"
    }
   ],
   "source": [
    "annual_cost"
   ]
  },
  {
   "cell_type": "markdown",
   "metadata": {
    "collapsed": true,
    "dc": {
     "key": "4"
    }
   },
   "source": [
    "Finished!"
   ]
  }
 ],
 "metadata": {
  "kernelspec": {
   "display_name": "Python 3 (ipykernel)",
   "language": "python",
   "name": "python3"
  },
  "language_info": {
   "codemirror_mode": {
    "name": "ipython",
    "version": 3
   },
   "file_extension": ".py",
   "mimetype": "text/x-python",
   "name": "python",
   "nbconvert_exporter": "python",
   "pygments_lexer": "ipython3",
   "version": "3.9.7"
  }
 },
 "nbformat": 4,
 "nbformat_minor": 2
}
